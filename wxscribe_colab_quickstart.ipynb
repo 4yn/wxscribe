{
 "cells": [
  {
   "cell_type": "code",
   "execution_count": null,
   "metadata": {},
   "outputs": [],
   "source": [
    "# https://github.com/4yn/wxscribe\n",
    "\n",
    "from google.colab import files\n",
    "uploaded = list(files.upload().keys())\n",
    "!pip install -q git+https://github.com/m-bain/whisperx.git ffmpeg-python pandoc\n",
    "!wget -q https://raw.githubusercontent.com/4yn/wxscribe/main/wxscribe.py\n",
    "fs = \" \".join(str(f) for f in uploaded)\n",
    "!python wxscribe.py --hf-token \"<insert your token here>\" {fs}\n",
    "!zip transcribed.zip ./*.docx\n",
    "files.download(\"transcribed.zip\")"
   ]
  }
 ],
 "metadata": {
  "kernelspec": {
   "display_name": "base",
   "language": "python",
   "name": "python3"
  },
  "language_info": {
   "codemirror_mode": {
    "name": "ipython",
    "version": 3
   },
   "file_extension": ".py",
   "mimetype": "text/x-python",
   "name": "python",
   "nbconvert_exporter": "python",
   "pygments_lexer": "ipython3",
   "version": "3.11.5"
  },
  "orig_nbformat": 4
 },
 "nbformat": 4,
 "nbformat_minor": 2
}
